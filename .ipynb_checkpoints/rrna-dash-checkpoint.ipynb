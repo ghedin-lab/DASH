{
 "cells": [
  {
   "cell_type": "markdown",
   "metadata": {},
   "source": [
    "# DASH Development"
   ]
  },
  {
   "cell_type": "markdown",
   "metadata": {},
   "source": [
    "## Characterization of 16S Diversity\n",
    "\n",
    "To start, we can look at Gabby's metatranscriptome data. This has the most linear amplification that will make characterization of a representative population more comprehensive:\n",
    "\n",
    "A) Identify human, bacterial, and fungal rRNA genes. \n",
    "B) Estimate the proportion of each with respect to clinically relevant data\n",
    "c) Determine the most general representative sequences to use as a template to design sgRNAs\n",
    "D) Design tiling schema as we deem fit.\n",
    "\n",
    "A published sgRNA design software can be found here: http://www.nature.com/nbt/journal/v34/n2/full/nbt.3437.html and the actual algorithm can be found here: http://www.broadinstitute.org/rnai/public/software/index\n"
   ]
  },
  {
   "cell_type": "markdown",
   "metadata": {},
   "source": []
  }
 ],
 "metadata": {
  "kernelspec": {
   "display_name": "Python 3",
   "language": "python",
   "name": "python3"
  },
  "language_info": {
   "codemirror_mode": {
    "name": "ipython",
    "version": 3
   },
   "file_extension": ".py",
   "mimetype": "text/x-python",
   "name": "python",
   "nbconvert_exporter": "python",
   "pygments_lexer": "ipython3",
   "version": "3.5.1"
  },
  "latex_envs": {
   "bibliofile": "biblio.bib",
   "cite_by": "apalike",
   "current_citInitial": 1,
   "eqLabelWithNumbers": true,
   "eqNumInitial": 0
  },
  "toc": {
   "toc_cell": false,
   "toc_number_sections": true,
   "toc_threshold": 6,
   "toc_window_display": false
  }
 },
 "nbformat": 4,
 "nbformat_minor": 0
}
